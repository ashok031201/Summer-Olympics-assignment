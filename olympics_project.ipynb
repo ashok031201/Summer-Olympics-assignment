{
  "nbformat": 4,
  "nbformat_minor": 0,
  "metadata": {
    "colab": {
      "name": "olympics project.ipynb",
      "provenance": []
    },
    "kernelspec": {
      "name": "python3",
      "display_name": "Python 3"
    },
    "language_info": {
      "name": "python"
    }
  },
  "cells": [
    {
      "cell_type": "markdown",
      "metadata": {
        "id": "K6L9qrnsY13J"
      },
      "source": [
        "# Summer Olympics Data Analysis Assignment\n"
      ]
    },
    {
      "cell_type": "markdown",
      "metadata": {
        "id": "fiIUbvTaZCXJ"
      },
      "source": [
        "# 1. In how many cities Summer Olympics is held so far?\n"
      ]
    },
    {
      "cell_type": "code",
      "metadata": {
        "id": "QCvXiOy_ZJhK"
      },
      "source": [
        "len((df[\"City\"].unique()))"
      ],
      "execution_count": null,
      "outputs": []
    },
    {
      "cell_type": "markdown",
      "metadata": {
        "id": "2XJ09fKNaTI3"
      },
      "source": [
        "# 2. Which sport is having most number of Gold Medals so far? (Top 5)"
      ]
    },
    {
      "cell_type": "code",
      "metadata": {
        "id": "qTR4ZUpZaga6"
      },
      "source": [
        "data=[]\n",
        "for sport in df[\"Sport\"].unique():\n",
        "  for medal in [df[df[\"Medal\"]==\"Gold\"]]:\n",
        "    data.append([medal,len(df[df[\"Medal\"]==medal])])\n",
        "data=pd.DataFrame(data,columns= [\"sports\",\"medals\"])\n",
        "data.sort_values(by= \"medals\",ascending=False).head()\n",
        "data.plot(x=\"sports\",y=\"medals\",,kind= bar)\n"
      ],
      "execution_count": null,
      "outputs": []
    },
    {
      "cell_type": "markdown",
      "metadata": {
        "id": "iNaCHJ6sviB8"
      },
      "source": [
        "3. Which sport is having most number of medals so far? (Top 5)\n"
      ]
    },
    {
      "cell_type": "code",
      "metadata": {
        "id": "-iQjJF4_vqaD"
      },
      "source": [
        "data=[]\n",
        "for sport in df[\"Sport\"].unique():\n",
        "  for medal in df[\"Medal\"].unique():\n",
        "    data.append([medal,len(df[df[\"Medal\"]==medal])])\n",
        "data=pd.DataFrame(data,columns= [\"sports\",\"medals\"])\n",
        "data.sort_values(by= \"medals\",ascending=False).head()\n",
        "data.plot(x=\"sports\",y=\"medals\",,kind= pie)\n"
      ],
      "execution_count": null,
      "outputs": []
    },
    {
      "cell_type": "markdown",
      "metadata": {
        "id": "-kUCzbL2v4oX"
      },
      "source": [
        "4.Which player has won most number of medals? (Top 5)"
      ]
    },
    {
      "cell_type": "code",
      "metadata": {
        "id": "jif-0inZwGI7"
      },
      "source": [
        "data=[]\n",
        "for player in df[\"Player\"].unique():\n",
        "  for medal in df[\"Medal\"].unique():\n",
        "    data.append([medal,len(df[df[\"Medal\"]==medal])])\n",
        "data=pd.DataFrame(data,columns= [\"player\",\"medals\"])\n",
        "data.sort_values(by= \"medals\",ascending=False).head()\n",
        "data.plot(x=\"player\",y=\"medals\",,kind= bar)\n"
      ],
      "execution_count": null,
      "outputs": []
    },
    {
      "cell_type": "markdown",
      "metadata": {
        "id": "lF7TeTGswQ8N"
      },
      "source": [
        " 5. Which player has won most number Gold Medals of medals? (Top 5)"
      ]
    },
    {
      "cell_type": "code",
      "metadata": {
        "id": "OxQ5dnl3wYoM"
      },
      "source": [
        "data=[]\n",
        "for player in df[\"Player\"].unique():\n",
        "  for medal in [df[df[\"Medal\"]==\"Gold\"]]:\n",
        "    data.append([medal,len(df[df[\"Medal\"]==medal])])\n",
        "data=pd.DataFrame(data,columns= [\"player\",\"medals\"])\n",
        "data.sort_values(by= \"medals\",ascending=False).head()\n",
        "data.plot(x=\"player\",y=\"medals\",,kind= pie)\n"
      ],
      "execution_count": null,
      "outputs": []
    },
    {
      "cell_type": "markdown",
      "metadata": {
        "id": "6S0imur1wty_"
      },
      "source": [
        "\n",
        "6. In which year India won first Gold Medal in Summer Olympics?"
      ]
    },
    {
      "cell_type": "code",
      "metadata": {
        "id": "LRHQqwtZwy4z"
      },
      "source": [
        "data=[]\n",
        "for year in df[\"Year\"].unique():\n",
        "  for medal in [df[df[\"Medal\"]==\"Gold\"]]:\n",
        "    data.append([medal,len(df[df[\"Medal\"]==medal])])\n",
        "data=pd.DataFrame(data,columns= [\"Year\",\"medals\"])\n",
        "data.sort_values(by= \"Year\",ascending=False)\n"
      ],
      "execution_count": null,
      "outputs": []
    },
    {
      "cell_type": "markdown",
      "metadata": {
        "id": "i_aOB76VxNLI"
      },
      "source": [
        "\n",
        "7. Which event is most popular in terms on number of players? (Top 5)"
      ]
    },
    {
      "cell_type": "code",
      "metadata": {
        "id": "3mPG5JJrxTid"
      },
      "source": [
        "data=[]\n",
        "for player in df[\"Player\"].unique():\n",
        "  for event in df[\"Evvent\"].unique():\n",
        "    data.append([event],len(df[df[\"Medal\"]==event])])\n",
        "data=pd.DataFrame(data,columns= [\"player\",\"Event\"])\n",
        "data.sort_values(by= \"Event\",ascending=False).head()\n",
        "data.plot(x=\"player\",y=\"Event\",,kind= bar)"
      ],
      "execution_count": null,
      "outputs": []
    },
    {
      "cell_type": "markdown",
      "metadata": {
        "id": "7oAgl0-NyNP7"
      },
      "source": [
        "\n",
        "8. Which sport is having most female Gold Medalists? (Top 5)"
      ]
    },
    {
      "cell_type": "code",
      "metadata": {
        "id": "qqsJ3hh9ySiX"
      },
      "source": [
        ""
      ],
      "execution_count": null,
      "outputs": []
    }
  ]
}